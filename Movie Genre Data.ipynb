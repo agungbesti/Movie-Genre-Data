{
 "cells": [
  {
   "cell_type": "markdown",
   "metadata": {
    "id": "Iwz0YxMNqVrR"
   },
   "source": [
    "# Personal Project\n",
    "> Nama: **Agung Besti**\n",
    "\n",
    "> Name Project: **Movie Genre Data**"
   ]
  },
  {
   "cell_type": "code",
   "execution_count": 1,
   "metadata": {
    "colab": {
     "base_uri": "https://localhost:8080/"
    },
    "id": "h-6Uz8O-xu9Q",
    "outputId": "cb4f64f2-d8bc-48fd-b6bf-2d2375afc616"
   },
   "outputs": [
    {
     "name": "stdout",
     "output_type": "stream",
     "text": [
      "Drive already mounted at /content/gdrive; to attempt to forcibly remount, call drive.mount(\"/content/gdrive\", force_remount=True).\n"
     ]
    }
   ],
   "source": [
    "from google.colab import drive\n",
    "drive.mount('/content/gdrive')"
   ]
  },
  {
   "cell_type": "code",
   "execution_count": 2,
   "metadata": {
    "id": "pNmAHpeypgIe"
   },
   "outputs": [],
   "source": [
    "import os\n",
    "os.environ['KAGGLE_CONFIG_DIR'] = \"/content/gdrive/My Drive/kaggle\""
   ]
  },
  {
   "cell_type": "code",
   "execution_count": 3,
   "metadata": {
    "colab": {
     "base_uri": "https://localhost:8080/"
    },
    "id": "J-GnAGHOpgLP",
    "outputId": "dcf8af7b-d121-4dec-cfd3-a21e77001780"
   },
   "outputs": [
    {
     "name": "stdout",
     "output_type": "stream",
     "text": [
      "/content/gdrive/My Drive/kaggle\n"
     ]
    }
   ],
   "source": [
    "#changing the working directory\n",
    "%cd /content/gdrive/My Drive/kaggle"
   ]
  },
  {
   "cell_type": "code",
   "execution_count": 4,
   "metadata": {
    "colab": {
     "base_uri": "https://localhost:8080/"
    },
    "id": "LPRQV_ohpgNu",
    "outputId": "f116d221-5584-4e5f-e501-dfdf13d06786"
   },
   "outputs": [
    {
     "name": "stdout",
     "output_type": "stream",
     "text": [
      "movie-genre-data.zip: Skipping, found more recently modified local copy (use --force to force download)\n"
     ]
    }
   ],
   "source": [
    "!kaggle datasets download -d lokkagle/movie-genre-data"
   ]
  },
  {
   "cell_type": "code",
   "execution_count": 5,
   "metadata": {
    "id": "VLg5wE4spgQa"
   },
   "outputs": [],
   "source": [
    "import zipfile\n",
    "local_zip = '/content/gdrive/MyDrive/kaggle/movie-genre-data.zip'\n",
    "zip_ref = zipfile.ZipFile(local_zip, 'r')\n",
    "zip_ref.extractall()\n",
    "zip_ref.close()"
   ]
  },
  {
   "cell_type": "code",
   "execution_count": 6,
   "metadata": {
    "colab": {
     "base_uri": "https://localhost:8080/"
    },
    "id": "cpUqyeltpgTA",
    "outputId": "944e8a09-3572-48c7-f905-488b52221eb3"
   },
   "outputs": [
    {
     "data": {
      "text/plain": [
       "['kaggle.json', 'movie-genre-data.zip', 'kaggle_movie_train.csv']"
      ]
     },
     "execution_count": 6,
     "metadata": {
      "tags": []
     },
     "output_type": "execute_result"
    }
   ],
   "source": [
    "os.listdir('/content/gdrive/MyDrive/kaggle/')"
   ]
  },
  {
   "cell_type": "code",
   "execution_count": 7,
   "metadata": {
    "id": "q8idFBCpsSWe"
   },
   "outputs": [],
   "source": [
    "#library\n",
    "import pandas as pd\n",
    "import re\n",
    "import string\n",
    "from sklearn.model_selection import train_test_split\n",
    "import tensorflow as tf\n",
    "from tensorflow.keras.preprocessing.text import Tokenizer\n",
    "from tensorflow.keras.preprocessing.sequence import pad_sequences\n",
    "from tensorflow.keras.layers import LSTM,Dense,Embedding,Dropout\n",
    "from tensorflow.keras.models import Sequential\n",
    "from tensorflow.keras.optimizers import Adam\n",
    "from keras import backend as K\n",
    "from keras.regularizers import l2\n",
    "import time\n",
    "import matplotlib.pyplot as plt"
   ]
  },
  {
   "cell_type": "code",
   "execution_count": 8,
   "metadata": {
    "colab": {
     "base_uri": "https://localhost:8080/",
     "height": 204
    },
    "id": "NtFkleiDsSZH",
    "outputId": "e6f5e6fc-5994-4920-9d39-3e446765cd10"
   },
   "outputs": [
    {
     "data": {
      "text/html": [
       "<div>\n",
       "<style scoped>\n",
       "    .dataframe tbody tr th:only-of-type {\n",
       "        vertical-align: middle;\n",
       "    }\n",
       "\n",
       "    .dataframe tbody tr th {\n",
       "        vertical-align: top;\n",
       "    }\n",
       "\n",
       "    .dataframe thead th {\n",
       "        text-align: right;\n",
       "    }\n",
       "</style>\n",
       "<table border=\"1\" class=\"dataframe\">\n",
       "  <thead>\n",
       "    <tr style=\"text-align: right;\">\n",
       "      <th></th>\n",
       "      <th>id</th>\n",
       "      <th>text</th>\n",
       "      <th>genre</th>\n",
       "    </tr>\n",
       "  </thead>\n",
       "  <tbody>\n",
       "    <tr>\n",
       "      <th>22574</th>\n",
       "      <td>28161</td>\n",
       "      <td>n in the world to decide what I'm going to do ...</td>\n",
       "      <td>drama</td>\n",
       "    </tr>\n",
       "    <tr>\n",
       "      <th>22575</th>\n",
       "      <td>28162</td>\n",
       "      <td>shards. BOJO LAZ! Laz pushes Deke back through...</td>\n",
       "      <td>drama</td>\n",
       "    </tr>\n",
       "    <tr>\n",
       "      <th>22576</th>\n",
       "      <td>28163</td>\n",
       "      <td>OTTIE You've got a thing about Ernie's, haven'...</td>\n",
       "      <td>thriller</td>\n",
       "    </tr>\n",
       "    <tr>\n",
       "      <th>22577</th>\n",
       "      <td>28165</td>\n",
       "      <td>....with marked skill and dexterity . LANA wry...</td>\n",
       "      <td>action</td>\n",
       "    </tr>\n",
       "    <tr>\n",
       "      <th>22578</th>\n",
       "      <td>28166</td>\n",
       "      <td>rd walks off down the hallway, leaving his pos...</td>\n",
       "      <td>comedy</td>\n",
       "    </tr>\n",
       "  </tbody>\n",
       "</table>\n",
       "</div>"
      ],
      "text/plain": [
       "          id                                               text     genre\n",
       "22574  28161  n in the world to decide what I'm going to do ...     drama\n",
       "22575  28162  shards. BOJO LAZ! Laz pushes Deke back through...     drama\n",
       "22576  28163  OTTIE You've got a thing about Ernie's, haven'...  thriller\n",
       "22577  28165  ....with marked skill and dexterity . LANA wry...    action\n",
       "22578  28166  rd walks off down the hallway, leaving his pos...    comedy"
      ]
     },
     "execution_count": 8,
     "metadata": {
      "tags": []
     },
     "output_type": "execute_result"
    }
   ],
   "source": [
    "df = pd.read_csv(\"/content/gdrive/MyDrive/kaggle/kaggle_movie_train.csv\")\n",
    "df.tail()"
   ]
  },
  {
   "cell_type": "markdown",
   "metadata": {
    "id": "ZCi43dhHs6_z"
   },
   "source": [
    "Melihat sebaran kelas pada dataset"
   ]
  },
  {
   "cell_type": "code",
   "execution_count": 9,
   "metadata": {
    "colab": {
     "base_uri": "https://localhost:8080/"
    },
    "id": "BFewZrQEsScb",
    "outputId": "0c3b4cc9-55ce-4a1f-973a-d81bf8280dd7"
   },
   "outputs": [
    {
     "data": {
      "text/plain": [
       "drama        8873\n",
       "thriller     6824\n",
       "comedy       2941\n",
       "action       2392\n",
       "sci-fi        613\n",
       "horror        456\n",
       "other         270\n",
       "adventure     147\n",
       "romance        63\n",
       "Name: genre, dtype: int64"
      ]
     },
     "execution_count": 9,
     "metadata": {
      "tags": []
     },
     "output_type": "execute_result"
    }
   ],
   "source": [
    "df['genre'].value_counts()"
   ]
  },
  {
   "cell_type": "markdown",
   "metadata": {
    "id": "E__aDMsstVk_"
   },
   "source": [
    "Karena ada sebaran kelas yang tidak seimbang pada dataset, maka kita hanya memilih kelas **comedy**, **action**, **sci-fi** dan **horror**. selain dari kelas itu kita hapus."
   ]
  },
  {
   "cell_type": "code",
   "execution_count": 10,
   "metadata": {
    "colab": {
     "base_uri": "https://localhost:8080/"
    },
    "id": "C3fRobtOs4nN",
    "outputId": "18ec948f-67ba-44c6-d774-0c7ba4f4e8b0"
   },
   "outputs": [
    {
     "data": {
      "text/plain": [
       "comedy    2941\n",
       "action    2392\n",
       "sci-fi     613\n",
       "horror     456\n",
       "Name: genre, dtype: int64"
      ]
     },
     "execution_count": 10,
     "metadata": {
      "tags": []
     },
     "output_type": "execute_result"
    }
   ],
   "source": [
    "# Menghapus kelas selain 4 genre tersebut\n",
    "df = df[~df['genre'].isin(['drama','thriller','other','adventure','romance'])]\n",
    "df['genre'].value_counts()"
   ]
  },
  {
   "cell_type": "markdown",
   "metadata": {
    "id": "pquvg-EBuaqz"
   },
   "source": [
    "sebelum memproses data, sebelumnya dilakukan pengecekan dataset tersebut. apakah ada nilai kosong atau tidak dengan fungsi isnull().\n",
    "\n",
    "Jika true maka ada nilai kosong dan jika false maka tidak ada nilai kosong"
   ]
  },
  {
   "cell_type": "code",
   "execution_count": 11,
   "metadata": {
    "colab": {
     "base_uri": "https://localhost:8080/"
    },
    "id": "SsaZhCzls4po",
    "outputId": "20726425-5eb1-44d9-ffd7-6da888313ec3"
   },
   "outputs": [
    {
     "data": {
      "text/plain": [
       "False"
      ]
     },
     "execution_count": 11,
     "metadata": {
      "tags": []
     },
     "output_type": "execute_result"
    }
   ],
   "source": [
    "df.isnull().values.any()"
   ]
  },
  {
   "cell_type": "markdown",
   "metadata": {
    "id": "ddtXmYBBvuSF"
   },
   "source": [
    "Menghapus kolom yang tidak dibutuhkan"
   ]
  },
  {
   "cell_type": "code",
   "execution_count": 12,
   "metadata": {
    "colab": {
     "base_uri": "https://localhost:8080/",
     "height": 204
    },
    "id": "gcLHeUris4sJ",
    "outputId": "a2657e8a-0fe7-41d2-aa44-81db1ac9991e"
   },
   "outputs": [
    {
     "data": {
      "text/html": [
       "<div>\n",
       "<style scoped>\n",
       "    .dataframe tbody tr th:only-of-type {\n",
       "        vertical-align: middle;\n",
       "    }\n",
       "\n",
       "    .dataframe tbody tr th {\n",
       "        vertical-align: top;\n",
       "    }\n",
       "\n",
       "    .dataframe thead th {\n",
       "        text-align: right;\n",
       "    }\n",
       "</style>\n",
       "<table border=\"1\" class=\"dataframe\">\n",
       "  <thead>\n",
       "    <tr style=\"text-align: right;\">\n",
       "      <th></th>\n",
       "      <th>text</th>\n",
       "      <th>genre</th>\n",
       "    </tr>\n",
       "  </thead>\n",
       "  <tbody>\n",
       "    <tr>\n",
       "      <th>1</th>\n",
       "      <td>t, summa cum laude and all. And I'm about to l...</td>\n",
       "      <td>comedy</td>\n",
       "    </tr>\n",
       "    <tr>\n",
       "      <th>9</th>\n",
       "      <td>e reels as the world spins. Sweat pours off hi...</td>\n",
       "      <td>action</td>\n",
       "    </tr>\n",
       "    <tr>\n",
       "      <th>20</th>\n",
       "      <td>I say he's a man who'll go far. Some people s...</td>\n",
       "      <td>comedy</td>\n",
       "    </tr>\n",
       "    <tr>\n",
       "      <th>25</th>\n",
       "      <td>you find out where the bachelor party is? COLE...</td>\n",
       "      <td>comedy</td>\n",
       "    </tr>\n",
       "    <tr>\n",
       "      <th>29</th>\n",
       "      <td>ibly horrendous public break up on the quad. A...</td>\n",
       "      <td>comedy</td>\n",
       "    </tr>\n",
       "  </tbody>\n",
       "</table>\n",
       "</div>"
      ],
      "text/plain": [
       "                                                 text   genre\n",
       "1   t, summa cum laude and all. And I'm about to l...  comedy\n",
       "9   e reels as the world spins. Sweat pours off hi...  action\n",
       "20   I say he's a man who'll go far. Some people s...  comedy\n",
       "25  you find out where the bachelor party is? COLE...  comedy\n",
       "29  ibly horrendous public break up on the quad. A...  comedy"
      ]
     },
     "execution_count": 12,
     "metadata": {
      "tags": []
     },
     "output_type": "execute_result"
    }
   ],
   "source": [
    "# drop kolom id\n",
    "df = df.drop(['id'], axis=1)\n",
    "df.head()"
   ]
  },
  {
   "cell_type": "markdown",
   "metadata": {
    "id": "Il4vbuF9xqFz"
   },
   "source": [
    "Membuat function Text Processing, untuk membuat data lebih baik lagi."
   ]
  },
  {
   "cell_type": "code",
   "execution_count": 13,
   "metadata": {
    "id": "KPqHCD8Rs4ul"
   },
   "outputs": [],
   "source": [
    "#Mengubah karakter huruf kapital menjadi kecil pada setiap kalimat data latih\n",
    "def to_lowercase(words):\n",
    "    new_words = []\n",
    "    for word in words:\n",
    "        new_word = word.lower()\n",
    "        new_words.append(new_word)\n",
    "    return new_words\n",
    "\n",
    "#Menghapus tanda baca pada setiap kalimat data latih\n",
    "def remove_tandabaca(words):\n",
    "    new_words = []\n",
    "    for word in words:\n",
    "        new_word = word.translate(str.maketrans(\"\",\"\",string.punctuation))\n",
    "        new_words.append(new_word)\n",
    "    return new_words\n",
    "\n",
    "#Menghapus jarak pada setiap kalimat data latih\n",
    "def remove_space(words):\n",
    "    new_words = []\n",
    "    for word in words:\n",
    "        new_word = word.strip()\n",
    "        #re.sub(' +', ' ',new_word)\n",
    "        re.sub(r\"^\\s+|\\s+$\", \"\", new_word)\n",
    "        new_words.append(new_word)\n",
    "    return new_words\n",
    "#Menghapus jarak dan tanda pada setiap kalimat data latih\n",
    "def text_cleaning(words):\n",
    "    words = remove_tandabaca(words)\n",
    "    words = remove_space(words)\n",
    "    return words\n",
    "\n",
    "def preprocessing(words):\n",
    "    words = text_cleaning(words)\n",
    "    words = to_lowercase(words)\n",
    "    return words"
   ]
  },
  {
   "cell_type": "markdown",
   "metadata": {
    "id": "2mJ4kC-8xkWB"
   },
   "source": [
    "Melakukan preprocessing pada dataset"
   ]
  },
  {
   "cell_type": "code",
   "execution_count": 14,
   "metadata": {
    "colab": {
     "base_uri": "https://localhost:8080/",
     "height": 204
    },
    "id": "Qrrnf_ors4x9",
    "outputId": "2f824f71-d173-4499-e841-5ea7f42079b3"
   },
   "outputs": [
    {
     "data": {
      "text/html": [
       "<div>\n",
       "<style scoped>\n",
       "    .dataframe tbody tr th:only-of-type {\n",
       "        vertical-align: middle;\n",
       "    }\n",
       "\n",
       "    .dataframe tbody tr th {\n",
       "        vertical-align: top;\n",
       "    }\n",
       "\n",
       "    .dataframe thead th {\n",
       "        text-align: right;\n",
       "    }\n",
       "</style>\n",
       "<table border=\"1\" class=\"dataframe\">\n",
       "  <thead>\n",
       "    <tr style=\"text-align: right;\">\n",
       "      <th></th>\n",
       "      <th>text</th>\n",
       "      <th>genre</th>\n",
       "    </tr>\n",
       "  </thead>\n",
       "  <tbody>\n",
       "    <tr>\n",
       "      <th>1</th>\n",
       "      <td>t summa cum laude and all and i m about to lau...</td>\n",
       "      <td>comedy</td>\n",
       "    </tr>\n",
       "    <tr>\n",
       "      <th>9</th>\n",
       "      <td>e reels as the world spins sweat pours off him...</td>\n",
       "      <td>action</td>\n",
       "    </tr>\n",
       "    <tr>\n",
       "      <th>20</th>\n",
       "      <td>i say he s a man who ll go far some people say...</td>\n",
       "      <td>comedy</td>\n",
       "    </tr>\n",
       "    <tr>\n",
       "      <th>25</th>\n",
       "      <td>you find out where the bachelor party is cole ...</td>\n",
       "      <td>comedy</td>\n",
       "    </tr>\n",
       "    <tr>\n",
       "      <th>29</th>\n",
       "      <td>ibly horrendous public break up on the quad ag...</td>\n",
       "      <td>comedy</td>\n",
       "    </tr>\n",
       "  </tbody>\n",
       "</table>\n",
       "</div>"
      ],
      "text/plain": [
       "                                                 text   genre\n",
       "1   t summa cum laude and all and i m about to lau...  comedy\n",
       "9   e reels as the world spins sweat pours off him...  action\n",
       "20  i say he s a man who ll go far some people say...  comedy\n",
       "25  you find out where the bachelor party is cole ...  comedy\n",
       "29  ibly horrendous public break up on the quad ag...  comedy"
      ]
     },
     "execution_count": 14,
     "metadata": {
      "tags": []
     },
     "output_type": "execute_result"
    }
   ],
   "source": [
    "df['text'] = df['text'].map(lambda x: re.sub(r'\\W+', ' ', x))\n",
    "df['text'] = preprocessing(df['text'].values)\n",
    "df.head()"
   ]
  },
  {
   "cell_type": "markdown",
   "metadata": {
    "id": "pJh_2oA4yx_2"
   },
   "source": [
    "Pelabelan genre dengan one hot encoded"
   ]
  },
  {
   "cell_type": "code",
   "execution_count": 15,
   "metadata": {
    "colab": {
     "base_uri": "https://localhost:8080/",
     "height": 204
    },
    "id": "DJ74LVT4s5PS",
    "outputId": "3f43daf2-9912-465f-ea4a-2cb15d544892"
   },
   "outputs": [
    {
     "data": {
      "text/html": [
       "<div>\n",
       "<style scoped>\n",
       "    .dataframe tbody tr th:only-of-type {\n",
       "        vertical-align: middle;\n",
       "    }\n",
       "\n",
       "    .dataframe tbody tr th {\n",
       "        vertical-align: top;\n",
       "    }\n",
       "\n",
       "    .dataframe thead th {\n",
       "        text-align: right;\n",
       "    }\n",
       "</style>\n",
       "<table border=\"1\" class=\"dataframe\">\n",
       "  <thead>\n",
       "    <tr style=\"text-align: right;\">\n",
       "      <th></th>\n",
       "      <th>text</th>\n",
       "      <th>action</th>\n",
       "      <th>comedy</th>\n",
       "      <th>horror</th>\n",
       "      <th>sci-fi</th>\n",
       "    </tr>\n",
       "  </thead>\n",
       "  <tbody>\n",
       "    <tr>\n",
       "      <th>1</th>\n",
       "      <td>t summa cum laude and all and i m about to lau...</td>\n",
       "      <td>0</td>\n",
       "      <td>1</td>\n",
       "      <td>0</td>\n",
       "      <td>0</td>\n",
       "    </tr>\n",
       "    <tr>\n",
       "      <th>9</th>\n",
       "      <td>e reels as the world spins sweat pours off him...</td>\n",
       "      <td>1</td>\n",
       "      <td>0</td>\n",
       "      <td>0</td>\n",
       "      <td>0</td>\n",
       "    </tr>\n",
       "    <tr>\n",
       "      <th>20</th>\n",
       "      <td>i say he s a man who ll go far some people say...</td>\n",
       "      <td>0</td>\n",
       "      <td>1</td>\n",
       "      <td>0</td>\n",
       "      <td>0</td>\n",
       "    </tr>\n",
       "    <tr>\n",
       "      <th>25</th>\n",
       "      <td>you find out where the bachelor party is cole ...</td>\n",
       "      <td>0</td>\n",
       "      <td>1</td>\n",
       "      <td>0</td>\n",
       "      <td>0</td>\n",
       "    </tr>\n",
       "    <tr>\n",
       "      <th>29</th>\n",
       "      <td>ibly horrendous public break up on the quad ag...</td>\n",
       "      <td>0</td>\n",
       "      <td>1</td>\n",
       "      <td>0</td>\n",
       "      <td>0</td>\n",
       "    </tr>\n",
       "  </tbody>\n",
       "</table>\n",
       "</div>"
      ],
      "text/plain": [
       "                                                 text  action  ...  horror  sci-fi\n",
       "1   t summa cum laude and all and i m about to lau...       0  ...       0       0\n",
       "9   e reels as the world spins sweat pours off him...       1  ...       0       0\n",
       "20  i say he s a man who ll go far some people say...       0  ...       0       0\n",
       "25  you find out where the bachelor party is cole ...       0  ...       0       0\n",
       "29  ibly horrendous public break up on the quad ag...       0  ...       0       0\n",
       "\n",
       "[5 rows x 5 columns]"
      ]
     },
     "execution_count": 15,
     "metadata": {
      "tags": []
     },
     "output_type": "execute_result"
    }
   ],
   "source": [
    "genre = pd.get_dummies(df.genre)\n",
    "df_genre = pd.concat([df, genre], axis=1)\n",
    "df_genre = df_genre.drop(columns='genre')\n",
    "df_genre.head()"
   ]
  },
  {
   "cell_type": "code",
   "execution_count": 16,
   "metadata": {
    "id": "keQFJGZkzBK0"
   },
   "outputs": [],
   "source": [
    "# Mengubah tipe data menjadi str\n",
    "text = df_genre['text'].astype(str)\n",
    "label = df_genre[['action', 'comedy','horror','sci-fi']].values"
   ]
  },
  {
   "cell_type": "markdown",
   "metadata": {
    "id": "F07tIzAszYYn"
   },
   "source": [
    "Membagi dataset menjadi data **train 80%** dan **validation 20%**"
   ]
  },
  {
   "cell_type": "code",
   "execution_count": 17,
   "metadata": {
    "id": "zdA1_yJGzBNR"
   },
   "outputs": [],
   "source": [
    "text_train, text_test, kelas_train, kelas_test = train_test_split(text, label, test_size = 0.2)"
   ]
  },
  {
   "cell_type": "markdown",
   "metadata": {
    "id": "cifQ5RLz0FdI"
   },
   "source": [
    "mengkonversikan setiap text ke sequence"
   ]
  },
  {
   "cell_type": "code",
   "execution_count": 18,
   "metadata": {
    "id": "A4aNnHdOzBP1"
   },
   "outputs": [],
   "source": [
    "tokenizer = Tokenizer(num_words=5000, oov_token='x')\n",
    "tokenizer.fit_on_texts(text_train) \n",
    "tokenizer.fit_on_texts(text_test)\n",
    " \n",
    "sekuens_train = tokenizer.texts_to_sequences(text_train)\n",
    "sekuens_test = tokenizer.texts_to_sequences(text_test)\n",
    " \n",
    "padded_train = pad_sequences(sekuens_train) \n",
    "padded_test = pad_sequences(sekuens_test)"
   ]
  },
  {
   "cell_type": "markdown",
   "metadata": {
    "id": "AQO9_o050rSt"
   },
   "source": [
    "Pemodelan Sequential dengan layer Embedding dan LSTM"
   ]
  },
  {
   "cell_type": "code",
   "execution_count": 19,
   "metadata": {
    "id": "aJXlaNuDzBSP"
   },
   "outputs": [],
   "source": [
    "model = Sequential([\n",
    "    Embedding(input_dim=5000, output_dim=16),\n",
    "    LSTM(64),\n",
    "    Dense(128, activation='relu'),\n",
    "    Dropout(0.5),\n",
    "    Dense(4, activation='softmax')\n",
    "])"
   ]
  },
  {
   "cell_type": "code",
   "execution_count": 20,
   "metadata": {
    "id": "7XEoQtMi1YqZ"
   },
   "outputs": [],
   "source": [
    "#Membuat fungsi recall untuk mengukur tingkat keberhasilan sistem dalam menemukan kembali sebuah informasi.\n",
    "def rec(y_true, y_pred):\n",
    "    true_positives = K.sum(K.round(K.clip(y_true * y_pred, 0, 1)))\n",
    "    possible_positives = K.sum(K.round(K.clip(y_true, 0, 1)))\n",
    "    recall = true_positives / (possible_positives + K.epsilon())\n",
    "    return recall\n",
    "#Membuat fungsi Precision untuk mengukur tingkat ketepatan antara informasi yang diminta. \n",
    "def prec(y_true, y_pred):\n",
    "    true_positives = K.sum(K.round(K.clip(y_true * y_pred, 0, 1)))\n",
    "    predicted_positives = K.sum(K.round(K.clip(y_pred, 0, 1)))\n",
    "    precision = true_positives / (predicted_positives + K.epsilon())\n",
    "    return precision"
   ]
  },
  {
   "cell_type": "code",
   "execution_count": 21,
   "metadata": {
    "id": "0S5ONpqPK5Nw"
   },
   "outputs": [],
   "source": [
    "class myCallback(tf.keras.callbacks.Callback):\n",
    "  def on_epoch_end(self, epoch, logs={}):\n",
    "    if(logs.get('accuracy')>0.9 and logs.get('val_accuracy')>0.9):\n",
    "      print(\"\\nAkurasi train dan validasi didapat telah mencapai nilai > 90%!\")\n",
    "      self.model.stop_training = True\n",
    "callbacks = myCallback()"
   ]
  },
  {
   "cell_type": "code",
   "execution_count": 22,
   "metadata": {
    "id": "Jd-j_ebYzBVC"
   },
   "outputs": [],
   "source": [
    "model.compile(loss = 'categorical_crossentropy',\n",
    "              optimizer = 'nadam',\n",
    "              metrics=['accuracy', prec, rec])"
   ]
  },
  {
   "cell_type": "markdown",
   "metadata": {
    "id": "tprnBfFO2ftX"
   },
   "source": [
    "Melakukan pelatihan model Nadam"
   ]
  },
  {
   "cell_type": "code",
   "execution_count": 23,
   "metadata": {
    "colab": {
     "base_uri": "https://localhost:8080/"
    },
    "id": "_zJyOj9dzBXg",
    "outputId": "45fe8760-8b27-456d-e9eb-5b3f88e7e4c7"
   },
   "outputs": [
    {
     "name": "stdout",
     "output_type": "stream",
     "text": [
      "\n",
      "Start Training Model Nadam\n",
      "\n",
      "Epoch 1/100\n",
      "321/321 - 36s - loss: 1.1222 - accuracy: 0.4564 - prec: 0.4848 - rec: 0.1746 - val_loss: 0.9330 - val_accuracy: 0.5105 - val_prec: 0.5751 - val_rec: 0.4267\n",
      "Epoch 2/100\n",
      "321/321 - 36s - loss: 0.8520 - accuracy: 0.5522 - prec: 0.5884 - rec: 0.4011 - val_loss: 0.8543 - val_accuracy: 0.5699 - val_prec: 0.5936 - val_rec: 0.4498\n",
      "Epoch 3/100\n",
      "321/321 - 36s - loss: 0.7397 - accuracy: 0.6278 - prec: 0.6468 - rec: 0.5541 - val_loss: 0.9437 - val_accuracy: 0.4629 - val_prec: 0.4653 - val_rec: 0.4043\n",
      "Epoch 4/100\n",
      "321/321 - 35s - loss: 0.6743 - accuracy: 0.7061 - prec: 0.7357 - rec: 0.6419 - val_loss: 0.7976 - val_accuracy: 0.6721 - val_prec: 0.7204 - val_rec: 0.5694\n",
      "Epoch 5/100\n",
      "321/321 - 35s - loss: 0.4922 - accuracy: 0.8039 - prec: 0.8328 - rec: 0.7710 - val_loss: 0.8193 - val_accuracy: 0.6565 - val_prec: 0.6896 - val_rec: 0.6250\n",
      "Epoch 6/100\n",
      "321/321 - 36s - loss: 0.4808 - accuracy: 0.8077 - prec: 0.8321 - rec: 0.7790 - val_loss: 0.7780 - val_accuracy: 0.6393 - val_prec: 0.6593 - val_rec: 0.5926\n",
      "Epoch 7/100\n",
      "321/321 - 35s - loss: 0.8200 - accuracy: 0.6532 - prec: 0.7241 - rec: 0.5288 - val_loss: 0.7401 - val_accuracy: 0.6885 - val_prec: 0.7587 - val_rec: 0.6088\n",
      "Epoch 8/100\n",
      "321/321 - 35s - loss: 0.4725 - accuracy: 0.8104 - prec: 0.8423 - rec: 0.7660 - val_loss: 1.7974 - val_accuracy: 0.5550 - val_prec: 0.5679 - val_rec: 0.5093\n",
      "Epoch 9/100\n",
      "321/321 - 35s - loss: 0.3665 - accuracy: 0.8541 - prec: 0.8761 - rec: 0.8298 - val_loss: 0.6777 - val_accuracy: 0.7752 - val_prec: 0.7952 - val_rec: 0.7492\n",
      "Epoch 10/100\n",
      "321/321 - 35s - loss: 0.2823 - accuracy: 0.8865 - prec: 0.8987 - rec: 0.8723 - val_loss: 0.7635 - val_accuracy: 0.7713 - val_prec: 0.7828 - val_rec: 0.7508\n",
      "Epoch 11/100\n",
      "321/321 - 35s - loss: 0.2213 - accuracy: 0.9119 - prec: 0.9191 - rec: 0.9003 - val_loss: 0.6613 - val_accuracy: 0.8072 - val_prec: 0.8085 - val_rec: 0.7901\n",
      "Epoch 12/100\n",
      "321/321 - 38s - loss: 0.2013 - accuracy: 0.9199 - prec: 0.9253 - rec: 0.9143 - val_loss: 0.8873 - val_accuracy: 0.8173 - val_prec: 0.8117 - val_rec: 0.8079\n",
      "Epoch 13/100\n",
      "321/321 - 38s - loss: 0.1643 - accuracy: 0.9371 - prec: 0.9407 - rec: 0.9352 - val_loss: 0.7576 - val_accuracy: 0.8048 - val_prec: 0.7978 - val_rec: 0.7932\n",
      "Epoch 14/100\n",
      "321/321 - 38s - loss: 0.1393 - accuracy: 0.9506 - prec: 0.9493 - rec: 0.9472 - val_loss: 1.6686 - val_accuracy: 0.6175 - val_prec: 0.6224 - val_rec: 0.6219\n",
      "Epoch 15/100\n",
      "321/321 - 38s - loss: 0.1299 - accuracy: 0.9539 - prec: 0.9548 - rec: 0.9537 - val_loss: 0.7598 - val_accuracy: 0.8103 - val_prec: 0.8010 - val_rec: 0.7994\n",
      "Epoch 16/100\n",
      "321/321 - 37s - loss: 0.0856 - accuracy: 0.9691 - prec: 0.9694 - rec: 0.9690 - val_loss: 0.7930 - val_accuracy: 0.8423 - val_prec: 0.8326 - val_rec: 0.8326\n",
      "Epoch 17/100\n",
      "321/321 - 38s - loss: 0.0668 - accuracy: 0.9813 - prec: 0.9813 - rec: 0.9811 - val_loss: 0.9293 - val_accuracy: 0.8431 - val_prec: 0.8339 - val_rec: 0.8333\n",
      "Epoch 18/100\n",
      "321/321 - 37s - loss: 0.0870 - accuracy: 0.9758 - prec: 0.9764 - rec: 0.9759 - val_loss: 0.7448 - val_accuracy: 0.8415 - val_prec: 0.8318 - val_rec: 0.8318\n",
      "Epoch 19/100\n",
      "321/321 - 37s - loss: 0.0587 - accuracy: 0.9809 - prec: 0.9811 - rec: 0.9807 - val_loss: 0.8468 - val_accuracy: 0.8361 - val_prec: 0.8264 - val_rec: 0.8264\n",
      "Epoch 20/100\n",
      "321/321 - 38s - loss: 0.0463 - accuracy: 0.9859 - prec: 0.9860 - rec: 0.9860 - val_loss: 0.8395 - val_accuracy: 0.8431 - val_prec: 0.8333 - val_rec: 0.8333\n",
      "Epoch 21/100\n",
      "321/321 - 38s - loss: 0.0205 - accuracy: 0.9938 - prec: 0.9938 - rec: 0.9938 - val_loss: 0.8834 - val_accuracy: 0.8478 - val_prec: 0.8380 - val_rec: 0.8380\n",
      "Epoch 22/100\n",
      "321/321 - 38s - loss: 0.0167 - accuracy: 0.9955 - prec: 0.9955 - rec: 0.9955 - val_loss: 0.8916 - val_accuracy: 0.8478 - val_prec: 0.8387 - val_rec: 0.8380\n",
      "Epoch 23/100\n",
      "321/321 - 38s - loss: 0.0288 - accuracy: 0.9914 - prec: 0.9885 - rec: 0.9885 - val_loss: 2.5484 - val_accuracy: 0.6589 - val_prec: 0.6626 - val_rec: 0.6620\n",
      "Epoch 24/100\n",
      "321/321 - 38s - loss: 0.2004 - accuracy: 0.9461 - prec: 0.9478 - rec: 0.9437 - val_loss: 0.6771 - val_accuracy: 0.8525 - val_prec: 0.8435 - val_rec: 0.8410\n",
      "Epoch 25/100\n",
      "321/321 - 38s - loss: 0.0250 - accuracy: 0.9936 - prec: 0.9936 - rec: 0.9934 - val_loss: 0.8078 - val_accuracy: 0.8205 - val_prec: 0.8124 - val_rec: 0.8110\n",
      "Epoch 26/100\n",
      "321/321 - 37s - loss: 0.0130 - accuracy: 0.9965 - prec: 0.9965 - rec: 0.9965 - val_loss: 0.7790 - val_accuracy: 0.8603 - val_prec: 0.8514 - val_rec: 0.8488\n",
      "Epoch 27/100\n",
      "321/321 - 38s - loss: 0.0212 - accuracy: 0.9941 - prec: 0.9942 - rec: 0.9942 - val_loss: 0.7615 - val_accuracy: 0.8610 - val_prec: 0.8524 - val_rec: 0.8511\n",
      "Epoch 28/100\n",
      "321/321 - 38s - loss: 0.0194 - accuracy: 0.9941 - prec: 0.9942 - rec: 0.9942 - val_loss: 0.7245 - val_accuracy: 0.8821 - val_prec: 0.8727 - val_rec: 0.8719\n",
      "Epoch 29/100\n",
      "321/321 - 38s - loss: 0.0091 - accuracy: 0.9979 - prec: 0.9979 - rec: 0.9979 - val_loss: 0.7930 - val_accuracy: 0.8743 - val_prec: 0.8642 - val_rec: 0.8642\n",
      "Epoch 30/100\n",
      "321/321 - 38s - loss: 0.0059 - accuracy: 0.9986 - prec: 0.9986 - rec: 0.9986 - val_loss: 0.8084 - val_accuracy: 0.8774 - val_prec: 0.8681 - val_rec: 0.8673\n",
      "Epoch 31/100\n",
      "321/321 - 38s - loss: 0.0598 - accuracy: 0.9861 - prec: 0.9862 - rec: 0.9860 - val_loss: 0.7733 - val_accuracy: 0.8423 - val_prec: 0.8332 - val_rec: 0.8326\n",
      "Epoch 32/100\n",
      "321/321 - 38s - loss: 0.0251 - accuracy: 0.9932 - prec: 0.9932 - rec: 0.9932 - val_loss: 0.7584 - val_accuracy: 0.8712 - val_prec: 0.8611 - val_rec: 0.8611\n",
      "Epoch 33/100\n",
      "321/321 - 38s - loss: 0.0105 - accuracy: 0.9975 - prec: 0.9975 - rec: 0.9975 - val_loss: 0.8527 - val_accuracy: 0.8728 - val_prec: 0.8633 - val_rec: 0.8627\n",
      "Epoch 34/100\n",
      "321/321 - 38s - loss: 0.0176 - accuracy: 0.9961 - prec: 0.9961 - rec: 0.9961 - val_loss: 0.8207 - val_accuracy: 0.8860 - val_prec: 0.8764 - val_rec: 0.8758\n",
      "Epoch 35/100\n",
      "321/321 - 37s - loss: 0.0045 - accuracy: 0.9990 - prec: 0.9990 - rec: 0.9990 - val_loss: 0.8519 - val_accuracy: 0.8813 - val_prec: 0.8719 - val_rec: 0.8711\n",
      "Epoch 36/100\n",
      "321/321 - 38s - loss: 0.0410 - accuracy: 0.9893 - prec: 0.9893 - rec: 0.9893 - val_loss: 0.8674 - val_accuracy: 0.8368 - val_prec: 0.8285 - val_rec: 0.8272\n",
      "Epoch 37/100\n",
      "321/321 - 39s - loss: 0.0262 - accuracy: 0.9924 - prec: 0.9924 - rec: 0.9924 - val_loss: 0.8546 - val_accuracy: 0.8712 - val_prec: 0.8618 - val_rec: 0.8611\n",
      "Epoch 38/100\n",
      "321/321 - 39s - loss: 0.0265 - accuracy: 0.9932 - prec: 0.9932 - rec: 0.9930 - val_loss: 0.8074 - val_accuracy: 0.8774 - val_prec: 0.8680 - val_rec: 0.8673\n",
      "Epoch 39/100\n",
      "321/321 - 39s - loss: 0.0092 - accuracy: 0.9977 - prec: 0.9977 - rec: 0.9977 - val_loss: 0.8254 - val_accuracy: 0.8626 - val_prec: 0.8525 - val_rec: 0.8519\n",
      "Epoch 40/100\n",
      "321/321 - 38s - loss: 0.0048 - accuracy: 0.9984 - prec: 0.9984 - rec: 0.9984 - val_loss: 0.8034 - val_accuracy: 0.8673 - val_prec: 0.8572 - val_rec: 0.8565\n",
      "Epoch 41/100\n",
      "321/321 - 38s - loss: 0.0052 - accuracy: 0.9990 - prec: 0.9990 - rec: 0.9990 - val_loss: 0.8271 - val_accuracy: 0.8774 - val_prec: 0.8673 - val_rec: 0.8673\n",
      "Epoch 42/100\n",
      "321/321 - 38s - loss: 0.0017 - accuracy: 0.9996 - prec: 0.9996 - rec: 0.9996 - val_loss: 0.8106 - val_accuracy: 0.8931 - val_prec: 0.8827 - val_rec: 0.8827\n",
      "Epoch 43/100\n",
      "321/321 - 38s - loss: 7.4573e-04 - accuracy: 1.0000 - prec: 1.0000 - rec: 1.0000 - val_loss: 0.8306 - val_accuracy: 0.8977 - val_prec: 0.8872 - val_rec: 0.8866\n",
      "Epoch 44/100\n",
      "321/321 - 38s - loss: 0.0124 - accuracy: 0.9967 - prec: 0.9967 - rec: 0.9967 - val_loss: 0.8981 - val_accuracy: 0.8509 - val_prec: 0.8426 - val_rec: 0.8403\n",
      "Epoch 45/100\n",
      "321/321 - 39s - loss: 0.0178 - accuracy: 0.9951 - prec: 0.9951 - rec: 0.9951 - val_loss: 0.8782 - val_accuracy: 0.8704 - val_prec: 0.8609 - val_rec: 0.8596\n",
      "Epoch 46/100\n",
      "321/321 - 38s - loss: 0.0067 - accuracy: 0.9986 - prec: 0.9986 - rec: 0.9986 - val_loss: 0.9627 - val_accuracy: 0.8876 - val_prec: 0.8771 - val_rec: 0.8765\n",
      "Epoch 47/100\n",
      "321/321 - 38s - loss: 0.0679 - accuracy: 0.9803 - prec: 0.9805 - rec: 0.9803 - val_loss: 0.7523 - val_accuracy: 0.8798 - val_prec: 0.8702 - val_rec: 0.8696\n",
      "Epoch 48/100\n",
      "321/321 - 38s - loss: 0.0088 - accuracy: 0.9977 - prec: 0.9977 - rec: 0.9977 - val_loss: 0.7938 - val_accuracy: 0.8759 - val_prec: 0.8657 - val_rec: 0.8657\n",
      "Epoch 49/100\n",
      "321/321 - 38s - loss: 0.0130 - accuracy: 0.9969 - prec: 0.9969 - rec: 0.9969 - val_loss: 0.7259 - val_accuracy: 0.8993 - val_prec: 0.8896 - val_rec: 0.8881\n",
      "Epoch 50/100\n",
      "321/321 - 38s - loss: 0.0031 - accuracy: 0.9992 - prec: 0.9992 - rec: 0.9992 - val_loss: 0.7756 - val_accuracy: 0.8931 - val_prec: 0.8827 - val_rec: 0.8827\n",
      "Epoch 51/100\n",
      "321/321 - 38s - loss: 0.0047 - accuracy: 0.9988 - prec: 0.9988 - rec: 0.9988 - val_loss: 0.9751 - val_accuracy: 0.8517 - val_prec: 0.8418 - val_rec: 0.8418\n",
      "Epoch 52/100\n",
      "321/321 - 38s - loss: 0.0012 - accuracy: 0.9998 - prec: 0.9998 - rec: 0.9998 - val_loss: 0.8785 - val_accuracy: 0.8860 - val_prec: 0.8758 - val_rec: 0.8758\n",
      "Epoch 53/100\n",
      "321/321 - 40s - loss: 2.9222e-04 - accuracy: 1.0000 - prec: 1.0000 - rec: 1.0000 - val_loss: 0.9078 - val_accuracy: 0.8876 - val_prec: 0.8773 - val_rec: 0.8773\n",
      "Epoch 54/100\n",
      "321/321 - 39s - loss: 1.6141e-04 - accuracy: 1.0000 - prec: 1.0000 - rec: 1.0000 - val_loss: 0.9258 - val_accuracy: 0.8891 - val_prec: 0.8789 - val_rec: 0.8789\n",
      "Epoch 55/100\n",
      "321/321 - 39s - loss: 1.5596e-04 - accuracy: 1.0000 - prec: 1.0000 - rec: 1.0000 - val_loss: 0.9512 - val_accuracy: 0.8907 - val_prec: 0.8804 - val_rec: 0.8804\n",
      "Epoch 56/100\n",
      "321/321 - 38s - loss: 8.6704e-05 - accuracy: 1.0000 - prec: 1.0000 - rec: 1.0000 - val_loss: 0.9681 - val_accuracy: 0.8954 - val_prec: 0.8850 - val_rec: 0.8843\n",
      "Epoch 57/100\n",
      "321/321 - 38s - loss: 1.0973e-04 - accuracy: 1.0000 - prec: 1.0000 - rec: 1.0000 - val_loss: 0.9872 - val_accuracy: 0.8962 - val_prec: 0.8858 - val_rec: 0.8858\n",
      "Epoch 58/100\n",
      "321/321 - 38s - loss: 9.7429e-05 - accuracy: 1.0000 - prec: 1.0000 - rec: 1.0000 - val_loss: 1.0091 - val_accuracy: 0.8946 - val_prec: 0.8842 - val_rec: 0.8835\n",
      "Epoch 59/100\n",
      "321/321 - 38s - loss: 5.8850e-05 - accuracy: 1.0000 - prec: 1.0000 - rec: 1.0000 - val_loss: 1.0294 - val_accuracy: 0.8946 - val_prec: 0.8843 - val_rec: 0.8843\n",
      "Epoch 60/100\n",
      "321/321 - 38s - loss: 5.8256e-05 - accuracy: 1.0000 - prec: 1.0000 - rec: 1.0000 - val_loss: 1.0501 - val_accuracy: 0.8970 - val_prec: 0.8873 - val_rec: 0.8866\n",
      "Epoch 61/100\n",
      "321/321 - 39s - loss: 3.5889e-05 - accuracy: 1.0000 - prec: 1.0000 - rec: 1.0000 - val_loss: 1.0592 - val_accuracy: 0.8962 - val_prec: 0.8858 - val_rec: 0.8858\n",
      "Epoch 62/100\n",
      "321/321 - 38s - loss: 3.8657e-05 - accuracy: 1.0000 - prec: 1.0000 - rec: 1.0000 - val_loss: 1.1126 - val_accuracy: 0.8977 - val_prec: 0.8873 - val_rec: 0.8873\n",
      "Epoch 63/100\n",
      "321/321 - 38s - loss: 3.3284e-05 - accuracy: 1.0000 - prec: 1.0000 - rec: 1.0000 - val_loss: 1.1264 - val_accuracy: 0.8954 - val_prec: 0.8850 - val_rec: 0.8850\n",
      "Epoch 64/100\n",
      "Epoch 65/100\n",
      "321/321 - 38s - loss: 0.0520 - accuracy: 0.9875 - prec: 0.9875 - rec: 0.9870 - val_loss: 0.6942 - val_accuracy: 0.8899 - val_prec: 0.8802 - val_rec: 0.8789\n",
      "Epoch 66/100\n",
      "321/321 - 38s - loss: 0.0111 - accuracy: 0.9973 - prec: 0.9973 - rec: 0.9973 - val_loss: 0.7394 - val_accuracy: 0.8704 - val_prec: 0.8618 - val_rec: 0.8596\n",
      "Epoch 67/100\n",
      "321/321 - 38s - loss: 0.0018 - accuracy: 0.9996 - prec: 0.9996 - rec: 0.9996 - val_loss: 0.7219 - val_accuracy: 0.8931 - val_prec: 0.8847 - val_rec: 0.8827\n",
      "Epoch 68/100\n",
      "321/321 - 38s - loss: 0.0015 - accuracy: 0.9998 - prec: 0.9998 - rec: 0.9998 - val_loss: 0.7856 - val_accuracy: 0.8829 - val_prec: 0.8748 - val_rec: 0.8727\n",
      "Epoch 69/100\n",
      "321/321 - 38s - loss: 3.0675e-04 - accuracy: 1.0000 - prec: 1.0000 - rec: 1.0000 - val_loss: 0.7848 - val_accuracy: 0.8915 - val_prec: 0.8812 - val_rec: 0.8804\n",
      "Epoch 70/100\n",
      "321/321 - 38s - loss: 1.9261e-04 - accuracy: 1.0000 - prec: 1.0000 - rec: 1.0000 - val_loss: 0.7966 - val_accuracy: 0.8954 - val_prec: 0.8861 - val_rec: 0.8835\n",
      "Epoch 71/100\n",
      "\n",
      "Akurasi train dan validasi didapat telah mencapai nilai > 90%!\n",
      "321/321 - 38s - loss: 1.2972e-04 - accuracy: 1.0000 - prec: 1.0000 - rec: 1.0000 - val_loss: 0.8088 - val_accuracy: 0.9016 - val_prec: 0.8917 - val_rec: 0.8897\n",
      "\n",
      "Stop Training\n",
      "Duration Learning :  44.724009958903\n"
     ]
    }
   ],
   "source": [
    "#Model Adam\n",
    "print(\"\\nStart Training Model Nadam\\n\")\n",
    "start_time = time.time()\n",
    "history = model.fit(\n",
    "    padded_train, \n",
    "    kelas_train,\n",
    "    epochs = 100,\n",
    "    validation_data = (padded_test, kelas_test),\n",
    "    verbose =2,\n",
    "    batch_size = 16,\n",
    "    callbacks=[callbacks]\n",
    ")\n",
    "print(\"\\nStop Training\")\n",
    "timenadam = ((time.time() - start_time)/60)\n",
    "print(\"Duration Learning : \",((time.time() - start_time)/60))"
   ]
  },
  {
   "cell_type": "code",
   "execution_count": 24,
   "metadata": {
    "colab": {
     "base_uri": "https://localhost:8080/",
     "height": 1000
    },
    "id": "c7Lhlcs7zBaD",
    "outputId": "ef5cc157-698f-48bb-bb6e-5d2f67f001fc"
   },
   "outputs": [
    {
     "data": {
      "image/png": "[encoded data removed]",
      "text/plain": [
       "<Figure size 432x288 with 1 Axes>"
      ]
     },
     "metadata": {
      "needs_background": "light",
      "tags": []
     },
     "output_type": "display_data"
    },
    {
     "data": {
      "image/png": "[encoded data removed]",
      "text/plain": [
       "<Figure size 432x288 with 1 Axes>"
      ]
     },
     "metadata": {
      "needs_background": "light",
      "tags": []
     },
     "output_type": "display_data"
    },
    {
     "data": {
      "image/png": "[encoded data removed]",
      "text/plain": [
       "<Figure size 432x288 with 1 Axes>"
      ]
     },
     "metadata": {
      "needs_background": "light",
      "tags": []
     },
     "output_type": "display_data"
    },
    {
     "data": {
      "image/png": "[encoded data removed]",
      "text/plain": [
       "<Figure size 432x288 with 1 Axes>"
      ]
     },
     "metadata": {
      "needs_background": "light",
      "tags": []
     },
     "output_type": "display_data"
    }
   ],
   "source": [
    "# visualisasi hasil data training\n",
    "new_colors = ['#1f77b4', '#ff7f0e', '#2ca02c', '#d62728','#9467bd', '#8c564b', '#e377c2', '#7f7f7f','#bcbd22', '#17becf']\n",
    "#Nadam\n",
    "acc_adam = history.history['accuracy']\n",
    "val_acc_adam = history.history['val_accuracy']\n",
    "loss_adam = history.history['loss']\n",
    "val_loss_adam = history.history['val_loss']\n",
    "prec_adam = history.history['prec']\n",
    "val_prec_adam = history.history['val_prec']\n",
    "rec_adam = history.history['rec']\n",
    "val_rec_adam = history.history['val_rec']\n",
    "\n",
    "# Visualisasi Accuracy Model\n",
    "plt.plot(acc_adam, label='Nadam', color=new_colors[2],linewidth=2)\n",
    "plt.plot(val_acc_adam, label='val_Nadam', color=new_colors[3],linewidth=2)\n",
    "plt.title('Model Accuracy Nadam ')\n",
    "plt.ylabel('Accuracy')\n",
    "plt.xlabel('Epoch')\n",
    "plt.legend(loc='center left', bbox_to_anchor=(1, 0.5))\n",
    "plt.show()\n",
    "# Visualisasi Loss Model\n",
    "plt.plot(loss_adam, label='Nadam', color=new_colors[2],linewidth=2)\n",
    "plt.plot(val_loss_adam, label='val_Nadam', color=new_colors[3],linewidth=2)\n",
    "plt.title('Model Loss Nadam')\n",
    "plt.ylabel('Loss')\n",
    "plt.xlabel('Epoch')\n",
    "plt.legend(loc='center left', bbox_to_anchor=(1, 0.5))\n",
    "plt.show()\n",
    "# Visualisasi Precision Model\n",
    "plt.plot(prec_adam, label='adam', color=new_colors[2],linewidth=2)\n",
    "plt.plot(val_prec_adam, label='val_adam', color=new_colors[3],linewidth=2)\n",
    "plt.title('Model Precision adam')\n",
    "plt.ylabel('Precision')\n",
    "plt.xlabel('Epoch')\n",
    "plt.legend(loc='center left', bbox_to_anchor=(1, 0.5))\n",
    "plt.show()\n",
    "# Visualisasi Recall Model\n",
    "plt.plot(rec_adam, label='Nadam', color=new_colors[2],linewidth=2)\n",
    "plt.plot(val_rec_adam, label='val_Nadam', color=new_colors[3],linewidth=2)\n",
    "plt.title('Model Recall Nadam')\n",
    "plt.ylabel('Recall')\n",
    "plt.xlabel('Epoch')\n",
    "plt.legend(loc='center left', bbox_to_anchor=(1, 0.5))\n",
    "plt.show()"
   ]
  }
 ],
 "metadata": {
  "colab": {
   "name": "Submission 1 NLP.ipynb",
   "provenance": []
  },
  "kernelspec": {
   "display_name": "Python 3",
   "language": "python",
   "name": "python3"
  },
  "language_info": {
   "codemirror_mode": {
    "name": "ipython",
    "version": 3
   },
   "file_extension": ".py",
   "mimetype": "text/x-python",
   "name": "python",
   "nbconvert_exporter": "python",
   "pygments_lexer": "ipython3",
   "version": "3.6.12"
  }
 },
 "nbformat": 4,
 "nbformat_minor": 1
}
